{
 "cells": [
  {
   "cell_type": "code",
   "execution_count": 1,
   "metadata": {},
   "outputs": [],
   "source": [
    "!pip install sentence-transformers -q"
   ]
  },
  {
   "cell_type": "code",
   "execution_count": 20,
   "metadata": {},
   "outputs": [],
   "source": [
    "from sentence_transformers import SentenceTransformer, InputExample, util\n",
    "import pandas as pd\n",
    "from torch.utils.data import DataLoader\n",
    "import re\n",
    "import string\n",
    "import numpy as np"
   ]
  },
  {
   "cell_type": "code",
   "execution_count": 2,
   "metadata": {},
   "outputs": [],
   "source": [
    "data = pd.read_csv('movies.csv', sep=',')"
   ]
  },
  {
   "cell_type": "code",
   "execution_count": 3,
   "metadata": {},
   "outputs": [],
   "source": [
    "data.drop(['Year', 'Rating'], axis=1 ,inplace=True)"
   ]
  },
  {
   "cell_type": "code",
   "execution_count": 12,
   "metadata": {},
   "outputs": [
    {
     "data": {
      "text/plain": [
       "'Barbie and Ken are having the time of their lives in the colorful and seemingly perfect world of Barbie Land. However, when they get a chance to go to the real world, they soon discover the joys and perils of living among\\xa0humans.'"
      ]
     },
     "execution_count": 12,
     "metadata": {},
     "output_type": "execute_result"
    }
   ],
   "source": [
    "data['Description'][0]"
   ]
  },
  {
   "cell_type": "code",
   "execution_count": 13,
   "metadata": {},
   "outputs": [],
   "source": [
    "def clean(text):\n",
    "    text = str(text)\n",
    "    text = text.lower()  # нижний регистр\n",
    "    text = re.sub(r\"http\\S+\", \" \", text)  # удаляем ссылки\n",
    "    text = re.sub(r\"@\\w+\", \" \", text)  # удаляем упоминания пользователей\n",
    "    text = re.sub(r\"#\\w+\", \" \", text)  # удаляем хэштеги\n",
    "    text = re.sub(r\"\\d+\", \" \", text)  # удаляем числа\n",
    "    text = text.translate(str.maketrans(\"\", \"\", string.punctuation))\n",
    "    text = re.sub(r\"<.*?>\", \" \", text)  #\n",
    "    text = re.sub(r\"[️«»—]\", \" \", text)\n",
    "    text = text.lower()\n",
    "    return text"
   ]
  },
  {
   "cell_type": "code",
   "execution_count": 9,
   "metadata": {},
   "outputs": [
    {
     "data": {
      "text/plain": [
       "str"
      ]
     },
     "execution_count": 9,
     "metadata": {},
     "output_type": "execute_result"
    }
   ],
   "source": [
    "type(data['Description'][0])"
   ]
  },
  {
   "cell_type": "code",
   "execution_count": 14,
   "metadata": {},
   "outputs": [],
   "source": [
    "clean_text = [clean(text) for text in data['Description']]"
   ]
  },
  {
   "cell_type": "code",
   "execution_count": 15,
   "metadata": {},
   "outputs": [],
   "source": [
    "data['cleaned_text'] = clean_text"
   ]
  },
  {
   "cell_type": "code",
   "execution_count": 16,
   "metadata": {},
   "outputs": [
    {
     "data": {
      "text/plain": [
       "'barbie and ken are having the time of their lives in the colorful and seemingly perfect world of barbie land however when they get a chance to go to the real world they soon discover the joys and perils of living among\\xa0humans'"
      ]
     },
     "execution_count": 16,
     "metadata": {},
     "output_type": "execute_result"
    }
   ],
   "source": [
    "data['cleaned_text'][0]"
   ]
  },
  {
   "cell_type": "code",
   "execution_count": 21,
   "metadata": {},
   "outputs": [],
   "source": [
    "examples = []\n",
    "for i in range(len(data)):\n",
    "    for j in range(i + 1, len(data)):\n",
    "        examples.append(InputExample(texts=[data['Description'][i], data['Description'][j]]))"
   ]
  },
  {
   "cell_type": "code",
   "execution_count": 24,
   "metadata": {},
   "outputs": [
    {
     "data": {
      "text/plain": [
       "<sentence_transformers.readers.InputExample.InputExample at 0x7d262596ebf0>"
      ]
     },
     "execution_count": 24,
     "metadata": {},
     "output_type": "execute_result"
    }
   ],
   "source": [
    "next(iter(examples))"
   ]
  },
  {
   "cell_type": "code",
   "execution_count": 19,
   "metadata": {},
   "outputs": [],
   "source": [
    "model = SentenceTransformer('distilbert-base-nli-stsb-mean-tokens')"
   ]
  },
  {
   "cell_type": "code",
   "execution_count": null,
   "metadata": {},
   "outputs": [],
   "source": [
    "descriptions = data['cleaned_text'].tolist()\n",
    "film_embeddings = model.encode(descriptions, convert_to_tensor=True)"
   ]
  },
  {
   "cell_type": "code",
   "execution_count": 24,
   "metadata": {},
   "outputs": [
    {
     "data": {
      "text/plain": [
       "torch.Size([4860, 768])"
      ]
     },
     "execution_count": 24,
     "metadata": {},
     "output_type": "execute_result"
    }
   ],
   "source": [
    "film_embeddings.size()"
   ]
  },
  {
   "cell_type": "code",
   "execution_count": 25,
   "metadata": {},
   "outputs": [],
   "source": [
    "np.save('film_embedded.npy', film_embeddings)"
   ]
  },
  {
   "cell_type": "code",
   "execution_count": 26,
   "metadata": {},
   "outputs": [],
   "source": [
    "film_embeddings = np.load('film_embedded.npy')"
   ]
  },
  {
   "cell_type": "code",
   "execution_count": 27,
   "metadata": {},
   "outputs": [],
   "source": [
    "def get_top_10_recommendations(query, top_k=10):\n",
    "    query_embedding = model.encode(query, convert_to_tensor=True).cpu()\n",
    "    similarities = util.pytorch_cos_sim(query_embedding, film_embeddings)[0]\n",
    "    top_results = similarities.cpu().numpy().argsort()[::-1][:top_k]\n",
    "    top_books = data.iloc[top_results].copy()\n",
    "    similarity_scores = similarities.cpu().numpy()[top_results].copy()\n",
    "    top_books['similarity_score'] = similarity_scores\n",
    "    return top_books"
   ]
  },
  {
   "cell_type": "code",
   "execution_count": 32,
   "metadata": {},
   "outputs": [],
   "source": [
    "query = 'corruption in city'"
   ]
  },
  {
   "cell_type": "code",
   "execution_count": 33,
   "metadata": {},
   "outputs": [],
   "source": [
    "reccomendations = get_top_10_recommendations(query)"
   ]
  },
  {
   "cell_type": "code",
   "execution_count": 34,
   "metadata": {},
   "outputs": [
    {
     "data": {
      "text/html": [
       "<div>\n",
       "<style scoped>\n",
       "    .dataframe tbody tr th:only-of-type {\n",
       "        vertical-align: middle;\n",
       "    }\n",
       "\n",
       "    .dataframe tbody tr th {\n",
       "        vertical-align: top;\n",
       "    }\n",
       "\n",
       "    .dataframe thead th {\n",
       "        text-align: right;\n",
       "    }\n",
       "</style>\n",
       "<table border=\"1\" class=\"dataframe\">\n",
       "  <thead>\n",
       "    <tr style=\"text-align: right;\">\n",
       "      <th></th>\n",
       "      <th>Title</th>\n",
       "      <th>Description</th>\n",
       "      <th>Poster URL</th>\n",
       "      <th>Page URL</th>\n",
       "      <th>cleaned_text</th>\n",
       "      <th>similarity_score</th>\n",
       "    </tr>\n",
       "  </thead>\n",
       "  <tbody>\n",
       "    <tr>\n",
       "      <th>3310</th>\n",
       "      <td>Urban Legend</td>\n",
       "      <td>A college campus is plagued by a vicious seria...</td>\n",
       "      <td>https://a.ltrbxd.com/resized/sm/upload/4d/ak/k...</td>\n",
       "      <td>https://letterboxd.com/film/urban-legend/</td>\n",
       "      <td>a college campus is plagued by a vicious seria...</td>\n",
       "      <td>0.444257</td>\n",
       "    </tr>\n",
       "    <tr>\n",
       "      <th>3338</th>\n",
       "      <td>The Young and the Damned</td>\n",
       "      <td>A group of juvenile delinquents lives a crimin...</td>\n",
       "      <td>https://a.ltrbxd.com/resized/sm/upload/kg/6s/a...</td>\n",
       "      <td>https://letterboxd.com/film/the-young-and-the-...</td>\n",
       "      <td>a group of juvenile delinquents lives a crimin...</td>\n",
       "      <td>0.384566</td>\n",
       "    </tr>\n",
       "    <tr>\n",
       "      <th>3540</th>\n",
       "      <td>Sin City: A Dame to Kill For</td>\n",
       "      <td>Some of Sin City’s most hard-boiled citizens c...</td>\n",
       "      <td>https://a.ltrbxd.com/resized/sm/upload/0w/yh/4...</td>\n",
       "      <td>https://letterboxd.com/film/sin-city-a-dame-to...</td>\n",
       "      <td>some of sin city’s most hardboiled citizens cr...</td>\n",
       "      <td>0.372968</td>\n",
       "    </tr>\n",
       "    <tr>\n",
       "      <th>4484</th>\n",
       "      <td>Sharper</td>\n",
       "      <td>A small, wealthy family in New York City gets ...</td>\n",
       "      <td>https://a.ltrbxd.com/resized/sm/upload/ka/7m/i...</td>\n",
       "      <td>https://letterboxd.com/film/sharper/</td>\n",
       "      <td>a small wealthy family in new york city gets p...</td>\n",
       "      <td>0.362835</td>\n",
       "    </tr>\n",
       "    <tr>\n",
       "      <th>2809</th>\n",
       "      <td>A Most Violent Year</td>\n",
       "      <td>A thriller set in New York City during the win...</td>\n",
       "      <td>https://a.ltrbxd.com/resized/sm/upload/6q/z8/d...</td>\n",
       "      <td>https://letterboxd.com/film/a-most-violent-year/</td>\n",
       "      <td>a thriller set in new york city during the win...</td>\n",
       "      <td>0.347674</td>\n",
       "    </tr>\n",
       "    <tr>\n",
       "      <th>3838</th>\n",
       "      <td>Detroit</td>\n",
       "      <td>A police raid in Detroit in 1967 results in on...</td>\n",
       "      <td>https://a.ltrbxd.com/resized/sm/upload/qi/nw/u...</td>\n",
       "      <td>https://letterboxd.com/film/detroit/</td>\n",
       "      <td>a police raid in detroit in   results in one o...</td>\n",
       "      <td>0.346753</td>\n",
       "    </tr>\n",
       "    <tr>\n",
       "      <th>1057</th>\n",
       "      <td>Sin City</td>\n",
       "      <td>Welcome to Sin City. This town beckons to the ...</td>\n",
       "      <td>https://a.ltrbxd.com/resized/sm/upload/ob/ac/1...</td>\n",
       "      <td>https://letterboxd.com/film/sin-city/</td>\n",
       "      <td>welcome to sin city this town beckons to the t...</td>\n",
       "      <td>0.346244</td>\n",
       "    </tr>\n",
       "    <tr>\n",
       "      <th>1932</th>\n",
       "      <td>Falling Down</td>\n",
       "      <td>An ordinary man frustrated with the various fl...</td>\n",
       "      <td>https://a.ltrbxd.com/resized/sm/upload/7j/05/d...</td>\n",
       "      <td>https://letterboxd.com/film/falling-down/</td>\n",
       "      <td>an ordinary man frustrated with the various fl...</td>\n",
       "      <td>0.342199</td>\n",
       "    </tr>\n",
       "    <tr>\n",
       "      <th>4598</th>\n",
       "      <td>Gods of Egypt</td>\n",
       "      <td>A common thief joins a mythical god on a quest...</td>\n",
       "      <td>https://a.ltrbxd.com/resized/sm/upload/d5/i8/p...</td>\n",
       "      <td>https://letterboxd.com/film/gods-of-egypt/</td>\n",
       "      <td>a common thief joins a mythical god on a quest...</td>\n",
       "      <td>0.338787</td>\n",
       "    </tr>\n",
       "    <tr>\n",
       "      <th>2374</th>\n",
       "      <td>A Scanner Darkly</td>\n",
       "      <td>An undercover cop in a not-too-distant future ...</td>\n",
       "      <td>https://a.ltrbxd.com/resized/sm/upload/e3/kt/u...</td>\n",
       "      <td>https://letterboxd.com/film/a-scanner-darkly/</td>\n",
       "      <td>an undercover cop in a nottoodistant future be...</td>\n",
       "      <td>0.333950</td>\n",
       "    </tr>\n",
       "  </tbody>\n",
       "</table>\n",
       "</div>"
      ],
      "text/plain": [
       "                             Title  \\\n",
       "3310                  Urban Legend   \n",
       "3338      The Young and the Damned   \n",
       "3540  Sin City: A Dame to Kill For   \n",
       "4484                       Sharper   \n",
       "2809           A Most Violent Year   \n",
       "3838                       Detroit   \n",
       "1057                      Sin City   \n",
       "1932                  Falling Down   \n",
       "4598                 Gods of Egypt   \n",
       "2374              A Scanner Darkly   \n",
       "\n",
       "                                            Description  \\\n",
       "3310  A college campus is plagued by a vicious seria...   \n",
       "3338  A group of juvenile delinquents lives a crimin...   \n",
       "3540  Some of Sin City’s most hard-boiled citizens c...   \n",
       "4484  A small, wealthy family in New York City gets ...   \n",
       "2809  A thriller set in New York City during the win...   \n",
       "3838  A police raid in Detroit in 1967 results in on...   \n",
       "1057  Welcome to Sin City. This town beckons to the ...   \n",
       "1932  An ordinary man frustrated with the various fl...   \n",
       "4598  A common thief joins a mythical god on a quest...   \n",
       "2374  An undercover cop in a not-too-distant future ...   \n",
       "\n",
       "                                             Poster URL  \\\n",
       "3310  https://a.ltrbxd.com/resized/sm/upload/4d/ak/k...   \n",
       "3338  https://a.ltrbxd.com/resized/sm/upload/kg/6s/a...   \n",
       "3540  https://a.ltrbxd.com/resized/sm/upload/0w/yh/4...   \n",
       "4484  https://a.ltrbxd.com/resized/sm/upload/ka/7m/i...   \n",
       "2809  https://a.ltrbxd.com/resized/sm/upload/6q/z8/d...   \n",
       "3838  https://a.ltrbxd.com/resized/sm/upload/qi/nw/u...   \n",
       "1057  https://a.ltrbxd.com/resized/sm/upload/ob/ac/1...   \n",
       "1932  https://a.ltrbxd.com/resized/sm/upload/7j/05/d...   \n",
       "4598  https://a.ltrbxd.com/resized/sm/upload/d5/i8/p...   \n",
       "2374  https://a.ltrbxd.com/resized/sm/upload/e3/kt/u...   \n",
       "\n",
       "                                               Page URL  \\\n",
       "3310          https://letterboxd.com/film/urban-legend/   \n",
       "3338  https://letterboxd.com/film/the-young-and-the-...   \n",
       "3540  https://letterboxd.com/film/sin-city-a-dame-to...   \n",
       "4484               https://letterboxd.com/film/sharper/   \n",
       "2809   https://letterboxd.com/film/a-most-violent-year/   \n",
       "3838               https://letterboxd.com/film/detroit/   \n",
       "1057              https://letterboxd.com/film/sin-city/   \n",
       "1932          https://letterboxd.com/film/falling-down/   \n",
       "4598         https://letterboxd.com/film/gods-of-egypt/   \n",
       "2374      https://letterboxd.com/film/a-scanner-darkly/   \n",
       "\n",
       "                                           cleaned_text  similarity_score  \n",
       "3310  a college campus is plagued by a vicious seria...          0.444257  \n",
       "3338  a group of juvenile delinquents lives a crimin...          0.384566  \n",
       "3540  some of sin city’s most hardboiled citizens cr...          0.372968  \n",
       "4484  a small wealthy family in new york city gets p...          0.362835  \n",
       "2809  a thriller set in new york city during the win...          0.347674  \n",
       "3838  a police raid in detroit in   results in one o...          0.346753  \n",
       "1057  welcome to sin city this town beckons to the t...          0.346244  \n",
       "1932  an ordinary man frustrated with the various fl...          0.342199  \n",
       "4598  a common thief joins a mythical god on a quest...          0.338787  \n",
       "2374  an undercover cop in a nottoodistant future be...          0.333950  "
      ]
     },
     "execution_count": 34,
     "metadata": {},
     "output_type": "execute_result"
    }
   ],
   "source": [
    "reccomendations"
   ]
  },
  {
   "cell_type": "code",
   "execution_count": 41,
   "metadata": {},
   "outputs": [],
   "source": [
    "from sklearn.metrics.pairwise import cosine_similarity"
   ]
  },
  {
   "cell_type": "code",
   "execution_count": 54,
   "metadata": {},
   "outputs": [],
   "source": [
    "from scipy.spatial.distance import euclidean"
   ]
  },
  {
   "cell_type": "code",
   "execution_count": 74,
   "metadata": {},
   "outputs": [],
   "source": [
    "import numpy as np"
   ]
  },
  {
   "cell_type": "code",
   "execution_count": 81,
   "metadata": {},
   "outputs": [
    {
     "data": {
      "text/plain": [
       "Index(['Title', 'Description', 'Poster URL', 'Page URL', 'cleaned_text',\n",
       "       'embeddings', 'similarity'],\n",
       "      dtype='object')"
      ]
     },
     "execution_count": 81,
     "metadata": {},
     "output_type": "execute_result"
    }
   ],
   "source": [
    "data.columns"
   ]
  },
  {
   "cell_type": "code",
   "execution_count": 85,
   "metadata": {},
   "outputs": [],
   "source": [
    "def recommend_books(query, dataframe_, top_n=20):\n",
    "    # Clean the query (if needed)\n",
    "    query_cleaned = clean(query)\n",
    "    #print(query_cleaned)\n",
    "    # Generate the embedding for the query\n",
    "    query_embedding = model.encode([query_cleaned])\n",
    "    #print(type(query_embedding),query_embedding.shape)\n",
    "    # Calculate cosine similarity between the query and each book's annotation\n",
    "    dataframe_['similarity'] = dataframe_['embeddings'].apply(lambda x: cosine_similarity([x], query_embedding).flatten()[0])\n",
    "    # Sort the books by similarity and get the top_n results\n",
    "    recommended_books = dataframe_.sort_values(by='similarity', ascending=False).head(top_n)\n",
    "\n",
    "    # Return the relevant columns\n",
    "    return recommended_books[['Description', 'similarity', 'Title', 'Poster URL', 'Page URL']]"
   ]
  },
  {
   "cell_type": "code",
   "execution_count": 83,
   "metadata": {},
   "outputs": [],
   "source": [
    "query = 'Man who fighting with corruption in Gotham city'"
   ]
  },
  {
   "cell_type": "code",
   "execution_count": 86,
   "metadata": {},
   "outputs": [
    {
     "data": {
      "text/html": [
       "<div>\n",
       "<style scoped>\n",
       "    .dataframe tbody tr th:only-of-type {\n",
       "        vertical-align: middle;\n",
       "    }\n",
       "\n",
       "    .dataframe tbody tr th {\n",
       "        vertical-align: top;\n",
       "    }\n",
       "\n",
       "    .dataframe thead th {\n",
       "        text-align: right;\n",
       "    }\n",
       "</style>\n",
       "<table border=\"1\" class=\"dataframe\">\n",
       "  <thead>\n",
       "    <tr style=\"text-align: right;\">\n",
       "      <th></th>\n",
       "      <th>Description</th>\n",
       "      <th>similarity</th>\n",
       "      <th>Title</th>\n",
       "      <th>Poster URL</th>\n",
       "      <th>Page URL</th>\n",
       "    </tr>\n",
       "  </thead>\n",
       "  <tbody>\n",
       "    <tr>\n",
       "      <th>713</th>\n",
       "      <td>Batman must face his most ruthless nemesis whe...</td>\n",
       "      <td>0.710602</td>\n",
       "      <td>Batman</td>\n",
       "      <td>https://a.ltrbxd.com/resized/sm/upload/qg/q3/m...</td>\n",
       "      <td>https://letterboxd.com/film/batman-1989/</td>\n",
       "    </tr>\n",
       "    <tr>\n",
       "      <th>14</th>\n",
       "      <td>In his second year of fighting crime, Batman u...</td>\n",
       "      <td>0.700508</td>\n",
       "      <td>The Batman</td>\n",
       "      <td>https://a.ltrbxd.com/resized/sm/upload/h1/on/1...</td>\n",
       "      <td>https://letterboxd.com/film/the-batman/</td>\n",
       "    </tr>\n",
       "    <tr>\n",
       "      <th>16</th>\n",
       "      <td>Batman raises the stakes in his war on crime. ...</td>\n",
       "      <td>0.627921</td>\n",
       "      <td>The Dark Knight</td>\n",
       "      <td>https://a.ltrbxd.com/resized/sm/upload/zu/51/m...</td>\n",
       "      <td>https://letterboxd.com/film/the-dark-knight/</td>\n",
       "    </tr>\n",
       "    <tr>\n",
       "      <th>173</th>\n",
       "      <td>Driven by tragedy, billionaire Bruce Wayne ded...</td>\n",
       "      <td>0.619559</td>\n",
       "      <td>Batman Begins</td>\n",
       "      <td>https://a.ltrbxd.com/resized/sm/upload/08/e5/a...</td>\n",
       "      <td>https://letterboxd.com/film/batman-begins/</td>\n",
       "    </tr>\n",
       "    <tr>\n",
       "      <th>695</th>\n",
       "      <td>An ambitious carnival man with a talent for ma...</td>\n",
       "      <td>0.562763</td>\n",
       "      <td>Nightmare Alley</td>\n",
       "      <td>https://a.ltrbxd.com/resized/sm/upload/pw/kj/w...</td>\n",
       "      <td>https://letterboxd.com/film/nightmare-alley-2021/</td>\n",
       "    </tr>\n",
       "    <tr>\n",
       "      <th>353</th>\n",
       "      <td>Obsessive master thief Neil McCauley leads a t...</td>\n",
       "      <td>0.560189</td>\n",
       "      <td>Heat</td>\n",
       "      <td>https://a.ltrbxd.com/resized/sm/upload/el/67/4...</td>\n",
       "      <td>https://letterboxd.com/film/heat-1995/</td>\n",
       "    </tr>\n",
       "    <tr>\n",
       "      <th>205</th>\n",
       "      <td>To take down South Boston’s Irish Mafia, the p...</td>\n",
       "      <td>0.560165</td>\n",
       "      <td>The Departed</td>\n",
       "      <td>https://a.ltrbxd.com/resized/sm/upload/33/lu/2...</td>\n",
       "      <td>https://letterboxd.com/film/the-departed/</td>\n",
       "    </tr>\n",
       "    <tr>\n",
       "      <th>523</th>\n",
       "      <td>Fearing the actions of a god-like Super Hero l...</td>\n",
       "      <td>0.556899</td>\n",
       "      <td>Batman v Superman: Dawn of Justice</td>\n",
       "      <td>https://a.ltrbxd.com/resized/sm/upload/ua/mn/p...</td>\n",
       "      <td>https://letterboxd.com/film/batman-v-superman-...</td>\n",
       "    </tr>\n",
       "    <tr>\n",
       "      <th>1494</th>\n",
       "      <td>When an armed, masked gang enter a Manhattan b...</td>\n",
       "      <td>0.555001</td>\n",
       "      <td>Inside Man</td>\n",
       "      <td>https://a.ltrbxd.com/resized/sm/upload/9j/92/f...</td>\n",
       "      <td>https://letterboxd.com/film/inside-man/</td>\n",
       "    </tr>\n",
       "    <tr>\n",
       "      <th>1441</th>\n",
       "      <td>Batman must battle a disfigured district attor...</td>\n",
       "      <td>0.536630</td>\n",
       "      <td>Batman Forever</td>\n",
       "      <td>https://a.ltrbxd.com/resized/sm/upload/6u/zy/2...</td>\n",
       "      <td>https://letterboxd.com/film/batman-forever/</td>\n",
       "    </tr>\n",
       "    <tr>\n",
       "      <th>1293</th>\n",
       "      <td>Deep in the heart of Jakarta’s slums lies an i...</td>\n",
       "      <td>0.530619</td>\n",
       "      <td>The Raid</td>\n",
       "      <td>https://a.ltrbxd.com/resized/sm/upload/lo/uz/b...</td>\n",
       "      <td>https://letterboxd.com/film/the-raid-2011/</td>\n",
       "    </tr>\n",
       "    <tr>\n",
       "      <th>594</th>\n",
       "      <td>Unscrupulous boxing promoters, violent bookmak...</td>\n",
       "      <td>0.519951</td>\n",
       "      <td>Snatch</td>\n",
       "      <td>https://a.ltrbxd.com/resized/sm/upload/6t/20/j...</td>\n",
       "      <td>https://letterboxd.com/film/snatch/</td>\n",
       "    </tr>\n",
       "    <tr>\n",
       "      <th>162</th>\n",
       "      <td>A botched robbery indicates a police informant...</td>\n",
       "      <td>0.519708</td>\n",
       "      <td>Reservoir Dogs</td>\n",
       "      <td>https://a.ltrbxd.com/resized/sm/upload/h1/5c/b...</td>\n",
       "      <td>https://letterboxd.com/film/reservoir-dogs/</td>\n",
       "    </tr>\n",
       "    <tr>\n",
       "      <th>165</th>\n",
       "      <td>Following the death of District Attorney Harve...</td>\n",
       "      <td>0.515314</td>\n",
       "      <td>The Dark Knight Rises</td>\n",
       "      <td>https://a.ltrbxd.com/resized/sm/upload/am/k2/f...</td>\n",
       "      <td>https://letterboxd.com/film/the-dark-knight-ri...</td>\n",
       "    </tr>\n",
       "    <tr>\n",
       "      <th>224</th>\n",
       "      <td>After getting a green card in exchange for ass...</td>\n",
       "      <td>0.508228</td>\n",
       "      <td>Scarface</td>\n",
       "      <td>https://a.ltrbxd.com/resized/sm/upload/xs/d9/w...</td>\n",
       "      <td>https://letterboxd.com/film/scarface-1983/</td>\n",
       "    </tr>\n",
       "    <tr>\n",
       "      <th>1754</th>\n",
       "      <td>A novice con man teams up with an acknowledged...</td>\n",
       "      <td>0.507342</td>\n",
       "      <td>The Sting</td>\n",
       "      <td>https://a.ltrbxd.com/resized/sm/upload/wo/jk/3...</td>\n",
       "      <td>https://letterboxd.com/film/the-sting/</td>\n",
       "    </tr>\n",
       "    <tr>\n",
       "      <th>665</th>\n",
       "      <td>Based on the true story of would-be Brooklyn b...</td>\n",
       "      <td>0.503102</td>\n",
       "      <td>Dog Day Afternoon</td>\n",
       "      <td>https://a.ltrbxd.com/resized/sm/upload/wq/x5/2...</td>\n",
       "      <td>https://letterboxd.com/film/dog-day-afternoon/</td>\n",
       "    </tr>\n",
       "    <tr>\n",
       "      <th>1762</th>\n",
       "      <td>Set in the Bronx during the tumultuous 1960s, ...</td>\n",
       "      <td>0.501686</td>\n",
       "      <td>A Bronx Tale</td>\n",
       "      <td>https://a.ltrbxd.com/resized/sm/upload/cx/do/n...</td>\n",
       "      <td>https://letterboxd.com/film/a-bronx-tale/</td>\n",
       "    </tr>\n",
       "    <tr>\n",
       "      <th>1596</th>\n",
       "      <td>An FBI undercover agent infiltrates the mob an...</td>\n",
       "      <td>0.497777</td>\n",
       "      <td>Donnie Brasco</td>\n",
       "      <td>https://a.ltrbxd.com/resized/sm/upload/1f/kb/i...</td>\n",
       "      <td>https://letterboxd.com/film/donnie-brasco/</td>\n",
       "    </tr>\n",
       "    <tr>\n",
       "      <th>815</th>\n",
       "      <td>When a shadowy CIA agent uncovers damning agen...</td>\n",
       "      <td>0.491991</td>\n",
       "      <td>The Gray Man</td>\n",
       "      <td>https://a.ltrbxd.com/resized/sm/upload/dy/q6/9...</td>\n",
       "      <td>https://letterboxd.com/film/the-gray-man-2022/</td>\n",
       "    </tr>\n",
       "  </tbody>\n",
       "</table>\n",
       "</div>"
      ],
      "text/plain": [
       "                                            Description  similarity  \\\n",
       "713   Batman must face his most ruthless nemesis whe...    0.710602   \n",
       "14    In his second year of fighting crime, Batman u...    0.700508   \n",
       "16    Batman raises the stakes in his war on crime. ...    0.627921   \n",
       "173   Driven by tragedy, billionaire Bruce Wayne ded...    0.619559   \n",
       "695   An ambitious carnival man with a talent for ma...    0.562763   \n",
       "353   Obsessive master thief Neil McCauley leads a t...    0.560189   \n",
       "205   To take down South Boston’s Irish Mafia, the p...    0.560165   \n",
       "523   Fearing the actions of a god-like Super Hero l...    0.556899   \n",
       "1494  When an armed, masked gang enter a Manhattan b...    0.555001   \n",
       "1441  Batman must battle a disfigured district attor...    0.536630   \n",
       "1293  Deep in the heart of Jakarta’s slums lies an i...    0.530619   \n",
       "594   Unscrupulous boxing promoters, violent bookmak...    0.519951   \n",
       "162   A botched robbery indicates a police informant...    0.519708   \n",
       "165   Following the death of District Attorney Harve...    0.515314   \n",
       "224   After getting a green card in exchange for ass...    0.508228   \n",
       "1754  A novice con man teams up with an acknowledged...    0.507342   \n",
       "665   Based on the true story of would-be Brooklyn b...    0.503102   \n",
       "1762  Set in the Bronx during the tumultuous 1960s, ...    0.501686   \n",
       "1596  An FBI undercover agent infiltrates the mob an...    0.497777   \n",
       "815   When a shadowy CIA agent uncovers damning agen...    0.491991   \n",
       "\n",
       "                                   Title  \\\n",
       "713                               Batman   \n",
       "14                            The Batman   \n",
       "16                       The Dark Knight   \n",
       "173                        Batman Begins   \n",
       "695                      Nightmare Alley   \n",
       "353                                 Heat   \n",
       "205                         The Departed   \n",
       "523   Batman v Superman: Dawn of Justice   \n",
       "1494                          Inside Man   \n",
       "1441                      Batman Forever   \n",
       "1293                            The Raid   \n",
       "594                               Snatch   \n",
       "162                       Reservoir Dogs   \n",
       "165                The Dark Knight Rises   \n",
       "224                             Scarface   \n",
       "1754                           The Sting   \n",
       "665                    Dog Day Afternoon   \n",
       "1762                        A Bronx Tale   \n",
       "1596                       Donnie Brasco   \n",
       "815                         The Gray Man   \n",
       "\n",
       "                                             Poster URL  \\\n",
       "713   https://a.ltrbxd.com/resized/sm/upload/qg/q3/m...   \n",
       "14    https://a.ltrbxd.com/resized/sm/upload/h1/on/1...   \n",
       "16    https://a.ltrbxd.com/resized/sm/upload/zu/51/m...   \n",
       "173   https://a.ltrbxd.com/resized/sm/upload/08/e5/a...   \n",
       "695   https://a.ltrbxd.com/resized/sm/upload/pw/kj/w...   \n",
       "353   https://a.ltrbxd.com/resized/sm/upload/el/67/4...   \n",
       "205   https://a.ltrbxd.com/resized/sm/upload/33/lu/2...   \n",
       "523   https://a.ltrbxd.com/resized/sm/upload/ua/mn/p...   \n",
       "1494  https://a.ltrbxd.com/resized/sm/upload/9j/92/f...   \n",
       "1441  https://a.ltrbxd.com/resized/sm/upload/6u/zy/2...   \n",
       "1293  https://a.ltrbxd.com/resized/sm/upload/lo/uz/b...   \n",
       "594   https://a.ltrbxd.com/resized/sm/upload/6t/20/j...   \n",
       "162   https://a.ltrbxd.com/resized/sm/upload/h1/5c/b...   \n",
       "165   https://a.ltrbxd.com/resized/sm/upload/am/k2/f...   \n",
       "224   https://a.ltrbxd.com/resized/sm/upload/xs/d9/w...   \n",
       "1754  https://a.ltrbxd.com/resized/sm/upload/wo/jk/3...   \n",
       "665   https://a.ltrbxd.com/resized/sm/upload/wq/x5/2...   \n",
       "1762  https://a.ltrbxd.com/resized/sm/upload/cx/do/n...   \n",
       "1596  https://a.ltrbxd.com/resized/sm/upload/1f/kb/i...   \n",
       "815   https://a.ltrbxd.com/resized/sm/upload/dy/q6/9...   \n",
       "\n",
       "                                               Page URL  \n",
       "713            https://letterboxd.com/film/batman-1989/  \n",
       "14              https://letterboxd.com/film/the-batman/  \n",
       "16         https://letterboxd.com/film/the-dark-knight/  \n",
       "173          https://letterboxd.com/film/batman-begins/  \n",
       "695   https://letterboxd.com/film/nightmare-alley-2021/  \n",
       "353              https://letterboxd.com/film/heat-1995/  \n",
       "205           https://letterboxd.com/film/the-departed/  \n",
       "523   https://letterboxd.com/film/batman-v-superman-...  \n",
       "1494            https://letterboxd.com/film/inside-man/  \n",
       "1441        https://letterboxd.com/film/batman-forever/  \n",
       "1293         https://letterboxd.com/film/the-raid-2011/  \n",
       "594                 https://letterboxd.com/film/snatch/  \n",
       "162         https://letterboxd.com/film/reservoir-dogs/  \n",
       "165   https://letterboxd.com/film/the-dark-knight-ri...  \n",
       "224          https://letterboxd.com/film/scarface-1983/  \n",
       "1754             https://letterboxd.com/film/the-sting/  \n",
       "665      https://letterboxd.com/film/dog-day-afternoon/  \n",
       "1762          https://letterboxd.com/film/a-bronx-tale/  \n",
       "1596         https://letterboxd.com/film/donnie-brasco/  \n",
       "815      https://letterboxd.com/film/the-gray-man-2022/  "
      ]
     },
     "execution_count": 86,
     "metadata": {},
     "output_type": "execute_result"
    }
   ],
   "source": [
    "recommend_books(query, data)# cosine similarity"
   ]
  },
  {
   "cell_type": "code",
   "execution_count": 80,
   "metadata": {},
   "outputs": [
    {
     "name": "stdout",
     "output_type": "stream",
     "text": [
      "NDCG@10: 0.0000\n",
      "                                            Description  similarity\n",
      "578   A struggling salesman takes custody of his son...    0.376437\n",
      "993   The story of August Pullman – a boy with facia...    0.299535\n",
      "425   Held captive for 7 years in an enclosed space,...    0.291777\n",
      "1345  A boy experiences first love, friendships and ...    0.291410\n",
      "584   A young boy learns that he has extraordinary p...    0.290662\n",
      "1806  After 20 years abroad, Mark Renton returns to ...    0.288750\n",
      "1117  A 12-year-old boy searches for the one thing t...    0.277160\n",
      "290   Elastigirl springs into action to save the day...    0.271562\n",
      "1440  A mother lives quietly with her son. One day, ...    0.269286\n",
      "670   In the wake of his dramatic escape from captiv...    0.263908\n"
     ]
    }
   ],
   "source": [
    "#  NDCG@K function\n",
    "def ndcg_at_k(actual, predicted, k):\n",
    "    def dcg(predicted):\n",
    "        return sum((1 / np.log2(idx + 2) for idx, item in enumerate(predicted) if item in actual))\n",
    "\n",
    "    dcg_max = dcg(actual[:k])\n",
    "    if not dcg_max:\n",
    "        return 0.0\n",
    "    return dcg(predicted[:k]) / dcg_max\n",
    "\n",
    "# Example usage:\n",
    "# Define a search query\n",
    "query = \"A boy who survived\"\n",
    "\n",
    "# Generate top N recommendations using the recommend_books function\n",
    "recommended_books_df = recommend_books(query, data, top_n=10)\n",
    "\n",
    "# Extract the recommended titles\n",
    "predicted_titles = recommended_books_df['Description'].tolist()\n",
    "\n",
    "# Assume you have a list of actual relevant titles (this could come from a user’s ratings or some other ground truth)\n",
    "actual_relevant_titles = [\"Film Title 1\", \"Film Title 2\", \"Film Title 3\"]  # Example list\n",
    "\n",
    "# Calculate NDCG@K for k=10\n",
    "k = 10\n",
    "ndcg_score = ndcg_at_k(actual_relevant_titles, predicted_titles, k)\n",
    "print(f\"NDCG@{k}: {ndcg_score:.4f}\") == recommend_books(query, data)\n",
    "print(recommended_books_df)"
   ]
  },
  {
   "cell_type": "code",
   "execution_count": 87,
   "metadata": {},
   "outputs": [
    {
     "name": "stdout",
     "output_type": "stream",
     "text": [
      "Embeddings saved to book_embeddings.txt\n"
     ]
    }
   ],
   "source": [
    "def save_embeddings_to_txt(books_df, filename='embeddings.txt'):\n",
    "    with open(filename, 'w') as f:\n",
    "        for i, row in books_df.iterrows():\n",
    "            title = row['Description']\n",
    "            embedding = row['embeddings']\n",
    "            # Convert the embedding to a string\n",
    "            embedding_str = ','.join(map(str, embedding))\n",
    "            # Write to the file with the title and embedding\n",
    "            f.write(f\"{title}\\t{embedding_str}\\n\")\n",
    "\n",
    "# Step 2: Generate the embeddings (this should have been done already)\n",
    "# Assuming `books` is your DataFrame with `embeddings` calculated\n",
    "# Call the function to save to a text file\n",
    "save_embeddings_to_txt(data, 'book_embeddings.txt')\n",
    "\n",
    "print(\"Embeddings saved to book_embeddings.txt\")"
   ]
  },
  {
   "cell_type": "code",
   "execution_count": 88,
   "metadata": {},
   "outputs": [
    {
     "data": {
      "text/html": [
       "<div>\n",
       "<style scoped>\n",
       "    .dataframe tbody tr th:only-of-type {\n",
       "        vertical-align: middle;\n",
       "    }\n",
       "\n",
       "    .dataframe tbody tr th {\n",
       "        vertical-align: top;\n",
       "    }\n",
       "\n",
       "    .dataframe thead th {\n",
       "        text-align: right;\n",
       "    }\n",
       "</style>\n",
       "<table border=\"1\" class=\"dataframe\">\n",
       "  <thead>\n",
       "    <tr style=\"text-align: right;\">\n",
       "      <th></th>\n",
       "      <th>Title</th>\n",
       "      <th>Description</th>\n",
       "      <th>Poster URL</th>\n",
       "      <th>Page URL</th>\n",
       "      <th>cleaned_text</th>\n",
       "      <th>embeddings</th>\n",
       "      <th>similarity</th>\n",
       "    </tr>\n",
       "  </thead>\n",
       "  <tbody>\n",
       "    <tr>\n",
       "      <th>0</th>\n",
       "      <td>Barbie</td>\n",
       "      <td>Barbie and Ken are having the time of their li...</td>\n",
       "      <td>https://a.ltrbxd.com/resized/sm/upload/mm/bt/i...</td>\n",
       "      <td>https://letterboxd.com/film/barbie/</td>\n",
       "      <td>barbie and ken are having the time of their li...</td>\n",
       "      <td>[-0.32578936, -0.033459865, 0.96370727, 0.2552...</td>\n",
       "      <td>0.173046</td>\n",
       "    </tr>\n",
       "    <tr>\n",
       "      <th>1</th>\n",
       "      <td>Parasite</td>\n",
       "      <td>All unemployed, Ki-taek’s family takes peculia...</td>\n",
       "      <td>https://a.ltrbxd.com/resized/sm/upload/oi/ha/7...</td>\n",
       "      <td>https://letterboxd.com/film/parasite-2019/</td>\n",
       "      <td>all unemployed kitaek’s family takes peculiar ...</td>\n",
       "      <td>[0.35172287, 0.42902425, 0.9482514, -0.1909772...</td>\n",
       "      <td>0.269765</td>\n",
       "    </tr>\n",
       "    <tr>\n",
       "      <th>2</th>\n",
       "      <td>Everything Everywhere All at Once</td>\n",
       "      <td>An aging Chinese immigrant is swept up in an i...</td>\n",
       "      <td>https://a.ltrbxd.com/resized/sm/upload/qo/9b/x...</td>\n",
       "      <td>https://letterboxd.com/film/everything-everywh...</td>\n",
       "      <td>an aging chinese immigrant is swept up in an i...</td>\n",
       "      <td>[-0.2394578, -0.1444907, 0.33220854, -0.949551...</td>\n",
       "      <td>0.267534</td>\n",
       "    </tr>\n",
       "    <tr>\n",
       "      <th>3</th>\n",
       "      <td>Fight Club</td>\n",
       "      <td>A ticking-time-bomb insomniac and a slippery s...</td>\n",
       "      <td>https://a.ltrbxd.com/resized/sm/upload/b0/iz/e...</td>\n",
       "      <td>https://letterboxd.com/film/fight-club/</td>\n",
       "      <td>a tickingtimebomb insomniac and a slippery soa...</td>\n",
       "      <td>[-0.09523395, 0.13974749, 0.88120854, -0.25531...</td>\n",
       "      <td>0.332923</td>\n",
       "    </tr>\n",
       "    <tr>\n",
       "      <th>4</th>\n",
       "      <td>La La Land</td>\n",
       "      <td>Mia, an aspiring actress, serves lattes to mov...</td>\n",
       "      <td>https://a.ltrbxd.com/resized/sm/upload/a6/th/c...</td>\n",
       "      <td>https://letterboxd.com/film/la-la-land/</td>\n",
       "      <td>mia an aspiring actress serves lattes to movie...</td>\n",
       "      <td>[0.9547254, 0.57873636, 0.7349273, -0.5343978,...</td>\n",
       "      <td>0.150125</td>\n",
       "    </tr>\n",
       "    <tr>\n",
       "      <th>...</th>\n",
       "      <td>...</td>\n",
       "      <td>...</td>\n",
       "      <td>...</td>\n",
       "      <td>...</td>\n",
       "      <td>...</td>\n",
       "      <td>...</td>\n",
       "      <td>...</td>\n",
       "    </tr>\n",
       "    <tr>\n",
       "      <th>1855</th>\n",
       "      <td>Pitch Perfect 3</td>\n",
       "      <td>After the highs of winning the world champions...</td>\n",
       "      <td>https://a.ltrbxd.com/resized/sm/upload/9h/ur/a...</td>\n",
       "      <td>https://letterboxd.com/film/pitch-perfect-3/</td>\n",
       "      <td>after the highs of winning the world champions...</td>\n",
       "      <td>[0.6471697, -0.02907161, 0.53647745, -0.053459...</td>\n",
       "      <td>0.150860</td>\n",
       "    </tr>\n",
       "    <tr>\n",
       "      <th>1856</th>\n",
       "      <td>Star Trek Beyond</td>\n",
       "      <td>The USS Enterprise crew explores the furthest ...</td>\n",
       "      <td>https://a.ltrbxd.com/resized/sm/upload/3r/7k/g...</td>\n",
       "      <td>https://letterboxd.com/film/star-trek-beyond/</td>\n",
       "      <td>the uss enterprise crew explores the furthest ...</td>\n",
       "      <td>[-0.98714054, 0.26338544, -0.29051733, -0.5166...</td>\n",
       "      <td>0.123505</td>\n",
       "    </tr>\n",
       "    <tr>\n",
       "      <th>1857</th>\n",
       "      <td>Color Out of Space</td>\n",
       "      <td>The Gardner family moves to a remote farmstead...</td>\n",
       "      <td>https://a.ltrbxd.com/resized/sm/upload/hn/4x/x...</td>\n",
       "      <td>https://letterboxd.com/film/color-out-of-space/</td>\n",
       "      <td>the gardner family moves to a remote farmstead...</td>\n",
       "      <td>[-0.17554207, 0.7062792, 0.4019348, -1.3173394...</td>\n",
       "      <td>0.162444</td>\n",
       "    </tr>\n",
       "    <tr>\n",
       "      <th>1858</th>\n",
       "      <td>Ghostbusters II</td>\n",
       "      <td>Having lost their status and credibility five ...</td>\n",
       "      <td>https://a.ltrbxd.com/resized/sm/upload/1j/2r/v...</td>\n",
       "      <td>https://letterboxd.com/film/ghostbusters-ii/</td>\n",
       "      <td>having lost their status and credibility five ...</td>\n",
       "      <td>[-0.008193281, 0.13329205, 1.0149481, -0.62428...</td>\n",
       "      <td>0.287521</td>\n",
       "    </tr>\n",
       "    <tr>\n",
       "      <th>1859</th>\n",
       "      <td>The Piano</td>\n",
       "      <td>A mute Scottish woman arrives in colonial New ...</td>\n",
       "      <td>https://a.ltrbxd.com/resized/sm/upload/wp/yi/r...</td>\n",
       "      <td>https://letterboxd.com/film/the-piano/</td>\n",
       "      <td>a mute scottish woman arrives in colonial new ...</td>\n",
       "      <td>[0.22600603, 0.61436576, -0.2430735, -0.059309...</td>\n",
       "      <td>-0.089614</td>\n",
       "    </tr>\n",
       "  </tbody>\n",
       "</table>\n",
       "<p>1860 rows × 7 columns</p>\n",
       "</div>"
      ],
      "text/plain": [
       "                                  Title  \\\n",
       "0                                Barbie   \n",
       "1                              Parasite   \n",
       "2     Everything Everywhere All at Once   \n",
       "3                            Fight Club   \n",
       "4                            La La Land   \n",
       "...                                 ...   \n",
       "1855                    Pitch Perfect 3   \n",
       "1856                   Star Trek Beyond   \n",
       "1857                 Color Out of Space   \n",
       "1858                    Ghostbusters II   \n",
       "1859                          The Piano   \n",
       "\n",
       "                                            Description  \\\n",
       "0     Barbie and Ken are having the time of their li...   \n",
       "1     All unemployed, Ki-taek’s family takes peculia...   \n",
       "2     An aging Chinese immigrant is swept up in an i...   \n",
       "3     A ticking-time-bomb insomniac and a slippery s...   \n",
       "4     Mia, an aspiring actress, serves lattes to mov...   \n",
       "...                                                 ...   \n",
       "1855  After the highs of winning the world champions...   \n",
       "1856  The USS Enterprise crew explores the furthest ...   \n",
       "1857  The Gardner family moves to a remote farmstead...   \n",
       "1858  Having lost their status and credibility five ...   \n",
       "1859  A mute Scottish woman arrives in colonial New ...   \n",
       "\n",
       "                                             Poster URL  \\\n",
       "0     https://a.ltrbxd.com/resized/sm/upload/mm/bt/i...   \n",
       "1     https://a.ltrbxd.com/resized/sm/upload/oi/ha/7...   \n",
       "2     https://a.ltrbxd.com/resized/sm/upload/qo/9b/x...   \n",
       "3     https://a.ltrbxd.com/resized/sm/upload/b0/iz/e...   \n",
       "4     https://a.ltrbxd.com/resized/sm/upload/a6/th/c...   \n",
       "...                                                 ...   \n",
       "1855  https://a.ltrbxd.com/resized/sm/upload/9h/ur/a...   \n",
       "1856  https://a.ltrbxd.com/resized/sm/upload/3r/7k/g...   \n",
       "1857  https://a.ltrbxd.com/resized/sm/upload/hn/4x/x...   \n",
       "1858  https://a.ltrbxd.com/resized/sm/upload/1j/2r/v...   \n",
       "1859  https://a.ltrbxd.com/resized/sm/upload/wp/yi/r...   \n",
       "\n",
       "                                               Page URL  \\\n",
       "0                   https://letterboxd.com/film/barbie/   \n",
       "1            https://letterboxd.com/film/parasite-2019/   \n",
       "2     https://letterboxd.com/film/everything-everywh...   \n",
       "3               https://letterboxd.com/film/fight-club/   \n",
       "4               https://letterboxd.com/film/la-la-land/   \n",
       "...                                                 ...   \n",
       "1855       https://letterboxd.com/film/pitch-perfect-3/   \n",
       "1856      https://letterboxd.com/film/star-trek-beyond/   \n",
       "1857    https://letterboxd.com/film/color-out-of-space/   \n",
       "1858       https://letterboxd.com/film/ghostbusters-ii/   \n",
       "1859             https://letterboxd.com/film/the-piano/   \n",
       "\n",
       "                                           cleaned_text  \\\n",
       "0     barbie and ken are having the time of their li...   \n",
       "1     all unemployed kitaek’s family takes peculiar ...   \n",
       "2     an aging chinese immigrant is swept up in an i...   \n",
       "3     a tickingtimebomb insomniac and a slippery soa...   \n",
       "4     mia an aspiring actress serves lattes to movie...   \n",
       "...                                                 ...   \n",
       "1855  after the highs of winning the world champions...   \n",
       "1856  the uss enterprise crew explores the furthest ...   \n",
       "1857  the gardner family moves to a remote farmstead...   \n",
       "1858  having lost their status and credibility five ...   \n",
       "1859  a mute scottish woman arrives in colonial new ...   \n",
       "\n",
       "                                             embeddings  similarity  \n",
       "0     [-0.32578936, -0.033459865, 0.96370727, 0.2552...    0.173046  \n",
       "1     [0.35172287, 0.42902425, 0.9482514, -0.1909772...    0.269765  \n",
       "2     [-0.2394578, -0.1444907, 0.33220854, -0.949551...    0.267534  \n",
       "3     [-0.09523395, 0.13974749, 0.88120854, -0.25531...    0.332923  \n",
       "4     [0.9547254, 0.57873636, 0.7349273, -0.5343978,...    0.150125  \n",
       "...                                                 ...         ...  \n",
       "1855  [0.6471697, -0.02907161, 0.53647745, -0.053459...    0.150860  \n",
       "1856  [-0.98714054, 0.26338544, -0.29051733, -0.5166...    0.123505  \n",
       "1857  [-0.17554207, 0.7062792, 0.4019348, -1.3173394...    0.162444  \n",
       "1858  [-0.008193281, 0.13329205, 1.0149481, -0.62428...    0.287521  \n",
       "1859  [0.22600603, 0.61436576, -0.2430735, -0.059309...   -0.089614  \n",
       "\n",
       "[1860 rows x 7 columns]"
      ]
     },
     "execution_count": 88,
     "metadata": {},
     "output_type": "execute_result"
    }
   ],
   "source": [
    "data"
   ]
  },
  {
   "cell_type": "code",
   "execution_count": 89,
   "metadata": {},
   "outputs": [],
   "source": [
    "data.to_csv('films_to_streamlit.csv', index=False)"
   ]
  },
  {
   "cell_type": "code",
   "execution_count": 91,
   "metadata": {},
   "outputs": [
    {
     "name": "stdout",
     "output_type": "stream",
     "text": [
      "<class 'numpy.ndarray'>\n"
     ]
    }
   ],
   "source": [
    "print(type(data['embeddings'][0]))"
   ]
  },
  {
   "cell_type": "code",
   "execution_count": 93,
   "metadata": {},
   "outputs": [
    {
     "data": {
      "text/plain": [
       "'https://a.ltrbxd.com/resized/sm/upload/sk/f3/f1/b2/whiplash-1200-1200-675-675-crop-000000.jpg?v=771f1a019d'"
      ]
     },
     "execution_count": 93,
     "metadata": {},
     "output_type": "execute_result"
    }
   ],
   "source": [
    "data['Poster URL'][10]"
   ]
  },
  {
   "cell_type": "code",
   "execution_count": null,
   "metadata": {},
   "outputs": [],
   "source": []
  }
 ],
 "metadata": {
  "kernelspec": {
   "display_name": "base",
   "language": "python",
   "name": "python3"
  },
  "language_info": {
   "codemirror_mode": {
    "name": "ipython",
    "version": 3
   },
   "file_extension": ".py",
   "mimetype": "text/x-python",
   "name": "python",
   "nbconvert_exporter": "python",
   "pygments_lexer": "ipython3",
   "version": "3.10.14"
  }
 },
 "nbformat": 4,
 "nbformat_minor": 2
}
